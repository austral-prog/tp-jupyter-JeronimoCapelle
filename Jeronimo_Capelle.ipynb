{
 "cells": [
  {
   "cell_type": "markdown",
   "metadata": {},
   "source": [
    "# Assignment\n",
    "\n",
    "The assignment will require you to complete cells, create new ones, and move around some cells. You need to familiarize yourself with the Jupyter notebook interface. You can find a tutorial [here](https://www.dataquest.io/blog/jupyter-notebook-tutorial/)."
   ]
  },
  {
   "cell_type": "markdown",
   "metadata": {},
   "source": [
    "---"
   ]
  },
  {
   "cell_type": "markdown",
   "metadata": {},
   "source": [
    "# [EXERCISE 1]\n",
    "\n",
    "## Jeronimo Capelle (jcapelle@mail.austral.edu.ar)\n",
    "\n",
    "![Dog picture](https://external-content.duckduckgo.com/iu/?u=https%3A%2F%2Fnosamisleschiens.fr%2Fwp-content%2Fuploads%2F2016%2F08%2FJack-Russell-scaled-scaled.jpeg&f=1&nofb=1&ipt=4bf349c83ffb2265d2ad5bb641e235abad559516f335913bb597b4955ba92b87&ipo=images)\n",
    "\n",
    "A picture of a jack russel dog enjoying the sun."
   ]
  },
  {
   "cell_type": "markdown",
   "metadata": {},
   "source": [
    "# [EXERCISE 2]"
   ]
  },
  {
   "cell_type": "code",
   "execution_count": 10,
   "metadata": {},
   "outputs": [],
   "source": [
    "# Write a function rectangle_area(width, height) that takes the width and height of a rectangle as input and returns its area.\n",
    "\n",
    "\n",
    "def rectangle_area(width, height):\n",
    "    return width * height"
   ]
  },
  {
   "cell_type": "markdown",
   "metadata": {},
   "source": [
    "# [EXERCISE 3]"
   ]
  },
  {
   "cell_type": "code",
   "execution_count": 16,
   "metadata": {},
   "outputs": [
    {
     "name": "stdout",
     "output_type": "stream",
     "text": [
      "The area of a rectangle with width 3 and height 4 is 12\n",
      "The area of a rectangle with width 5 and height 10 is 50\n",
      "The area of a rectangle with width 8 and height 2 is 16\n"
     ]
    }
   ],
   "source": [
    "#2. Use your created function to calculate the area of a rectangle with width 3 and height 4. Another of width 5 and height 10, and another of width 8 and height 2. Show your results in the same cell with a description of each result. Similar to this example:\n",
    "\n",
    "#        `The area of a rectangle with width 3 and height 4 is 12.`\n",
    "\n",
    "class Rectangle:\n",
    "    def __init__(self, x, y):\n",
    "        self.x = x\n",
    "        self.y = y\n",
    "        \n",
    "r1 = Rectangle(3,4)\n",
    "r2 = Rectangle(5,10)\n",
    "r3 = Rectangle(8,2)\n",
    "\n",
    "print(f\"The area of a rectangle with width {r1.x} and height {r1.y} is {rectangle_area(r1.x,r1.y)}\")\n",
    "print(f\"The area of a rectangle with width {r2.x} and height {r2.y} is {rectangle_area(r2.x,r2.y)}\")\n",
    "print(f\"The area of a rectangle with width {r3.x} and height {r3.y} is {rectangle_area(r3.x,r3.y)}\")"
   ]
  },
  {
   "cell_type": "markdown",
   "metadata": {},
   "source": [
    "# [EXERCISE 5]"
   ]
  },
  {
   "cell_type": "code",
   "execution_count": 18,
   "metadata": {
    "scrolled": true
   },
   "outputs": [
    {
     "data": {
      "text/markdown": [
       "# Suma"
      ],
      "text/plain": [
       "<IPython.core.display.Markdown object>"
      ]
     },
     "metadata": {},
     "output_type": "display_data"
    },
    {
     "name": "stdout",
     "output_type": "stream",
     "text": [
      "10\n"
     ]
    },
    {
     "data": {
      "text/markdown": [
       "# Substraccion"
      ],
      "text/plain": [
       "<IPython.core.display.Markdown object>"
      ]
     },
     "metadata": {},
     "output_type": "display_data"
    },
    {
     "name": "stdout",
     "output_type": "stream",
     "text": [
      "-4\n"
     ]
    },
    {
     "data": {
      "text/markdown": [
       "# Multiplication"
      ],
      "text/plain": [
       "<IPython.core.display.Markdown object>"
      ]
     },
     "metadata": {},
     "output_type": "display_data"
    },
    {
     "name": "stdout",
     "output_type": "stream",
     "text": [
      "21\n"
     ]
    },
    {
     "data": {
      "text/markdown": [
       "# Division"
      ],
      "text/plain": [
       "<IPython.core.display.Markdown object>"
      ]
     },
     "metadata": {},
     "output_type": "display_data"
    },
    {
     "name": "stdout",
     "output_type": "stream",
     "text": [
      "0.42857142857142855\n"
     ]
    }
   ],
   "source": [
    "from IPython.display import display, Markdown\n",
    "\n",
    "a = 3\n",
    "b = 7\n",
    "\n",
    "display(Markdown(\"# Suma\"))\n",
    "print(a+b)\n",
    "\n",
    "display(Markdown(\"# Substraccion\"))\n",
    "print(a-b)\n",
    "\n",
    "display(Markdown(\"# Multiplication\"))\n",
    "print(a*b)\n",
    "\n",
    "display(Markdown(\"# Division\"))\n",
    "print(a/b)"
   ]
  }
 ],
 "metadata": {
  "kernelspec": {
   "display_name": "Python 3 (ipykernel)",
   "language": "python",
   "name": "python3"
  },
  "language_info": {
   "codemirror_mode": {
    "name": "ipython",
    "version": 3
   },
   "file_extension": ".py",
   "mimetype": "text/x-python",
   "name": "python",
   "nbconvert_exporter": "python",
   "pygments_lexer": "ipython3",
   "version": "3.12.3"
  }
 },
 "nbformat": 4,
 "nbformat_minor": 4
}
